{
 "cells": [
  {
   "cell_type": "code",
   "execution_count": 1,
   "id": "8cc7ac20",
   "metadata": {},
   "outputs": [],
   "source": [
    "import os\n",
    "import shutil\n",
    "import random"
   ]
  },
  {
   "cell_type": "code",
   "execution_count": 2,
   "id": "69c6853e",
   "metadata": {},
   "outputs": [],
   "source": [
    "# Config\n",
    "INPUT_DIR = \"../data/processed\"\n",
    "OUTPUT_DIR = \"../src/data/\"\n",
    "SPLIT_RATIOS = {\"train\": 0.7, \"val\": 0.15, \"test\": 0.15}\n",
    "CATEGORIES = ['acne', 'vitiligo', 'hyperpigmentation', 'nail_psoriasis', 'sjs_ten']"
   ]
  },
  {
   "cell_type": "code",
   "execution_count": 4,
   "id": "ff774bb1",
   "metadata": {},
   "outputs": [],
   "source": [
    "# Créer les dossiers de sortie\n",
    "for split in SPLIT_RATIOS.keys():\n",
    "    for category in CATEGORIES:\n",
    "        path = os.path.join(OUTPUT_DIR, split, category)\n",
    "        os.makedirs(path, exist_ok=True)"
   ]
  },
  {
   "cell_type": "code",
   "execution_count": 5,
   "id": "1402516c",
   "metadata": {},
   "outputs": [],
   "source": [
    "# Répartition des images\n",
    "for category in CATEGORIES:\n",
    "    category_path = os.path.join(INPUT_DIR, category)\n",
    "    images = os.listdir(category_path)\n",
    "    random.shuffle(images)\n",
    "\n",
    "    total = len(images)\n",
    "    train_end = int(SPLIT_RATIOS[\"train\"] * total)\n",
    "    val_end = train_end + int(SPLIT_RATIOS[\"val\"] * total)\n",
    "\n",
    "    splits = {\n",
    "        \"train\": images[:train_end],\n",
    "        \"val\": images[train_end:val_end],\n",
    "        \"test\": images[val_end:]\n",
    "    }\n",
    "\n",
    "    for split, split_images in splits.items():\n",
    "        for img in split_images:\n",
    "            src_path = os.path.join(category_path, img)\n",
    "            dst_path = os.path.join(OUTPUT_DIR, split, category, img)\n",
    "            shutil.copyfile(src_path, dst_path)"
   ]
  }
 ],
 "metadata": {
  "kernelspec": {
   "display_name": "Python 3",
   "language": "python",
   "name": "python3"
  },
  "language_info": {
   "codemirror_mode": {
    "name": "ipython",
    "version": 3
   },
   "file_extension": ".py",
   "mimetype": "text/x-python",
   "name": "python",
   "nbconvert_exporter": "python",
   "pygments_lexer": "ipython3",
   "version": "3.9.20"
  }
 },
 "nbformat": 4,
 "nbformat_minor": 5
}
