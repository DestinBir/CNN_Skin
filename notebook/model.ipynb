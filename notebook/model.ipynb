{
 "cells": [
  {
   "cell_type": "code",
   "execution_count": 2,
   "id": "d9e41e26",
   "metadata": {},
   "outputs": [],
   "source": [
    "import tensorflow as tf\n",
    "from tensorflow.keras.preprocessing.image import ImageDataGenerator\n",
    "from tensorflow.keras.applications import ResNet50\n",
    "from tensorflow.keras.models import Model\n",
    "from tensorflow.keras.layers import Dense, GlobalAveragePooling2D, Dropout\n",
    "from tensorflow.keras.optimizers import Adam"
   ]
  },
  {
   "cell_type": "code",
   "execution_count": 3,
   "id": "d11da8f0",
   "metadata": {},
   "outputs": [
    {
     "name": "stdout",
     "output_type": "stream",
     "text": [
      "Found 4359 images belonging to 5 classes.\n",
      "Found 932 images belonging to 5 classes.\n",
      "Found 939 images belonging to 5 classes.\n"
     ]
    }
   ],
   "source": [
    "IMG_SIZE = (224, 224)\n",
    "BATCH_SIZE = 32\n",
    "DATASET_DIR = \"../src/data/\"\n",
    "\n",
    "datagen = ImageDataGenerator(rescale=1./255)\n",
    "\n",
    "train_generator = datagen.flow_from_directory(\n",
    "    f\"{DATASET_DIR}/train\", target_size=IMG_SIZE, batch_size=BATCH_SIZE, class_mode=\"categorical\")\n",
    "\n",
    "val_generator = datagen.flow_from_directory(\n",
    "    f\"{DATASET_DIR}/val\", target_size=IMG_SIZE, batch_size=BATCH_SIZE, class_mode=\"categorical\")\n",
    "\n",
    "test_generator = datagen.flow_from_directory(\n",
    "    f\"{DATASET_DIR}/test\", target_size=IMG_SIZE, batch_size=BATCH_SIZE, class_mode=\"categorical\")\n"
   ]
  },
  {
   "cell_type": "code",
   "execution_count": null,
   "id": "349fdeee",
   "metadata": {},
   "outputs": [],
   "source": [
    "\"\"\"base_model = ResNet50(weights='imagenet', include_top=False, input_shape=(224, 224, 3))\n",
    "base_model.trainable = False  # On gèle les couches de ResNet\n",
    "\n",
    "x = base_model.output\n",
    "x = GlobalAveragePooling2D()(x)\n",
    "x = Dropout(0.5)(x)\n",
    "predictions = Dense(5, activation='softmax')(x)  # 5 classes\n",
    "\n",
    "model = Model(inputs=base_model.input, outputs=predictions)\"\"\"\n"
   ]
  },
  {
   "cell_type": "code",
   "execution_count": 4,
   "id": "c5967668",
   "metadata": {},
   "outputs": [],
   "source": [
    "base_model_1 = ResNet50(include_top=False, weights='imagenet', input_shape=(224, 224, 3))\n",
    "base_model_1.trainable = False  # on fige les couches\n",
    "\n",
    "model_1 = tf.keras.Sequential([\n",
    "    base_model_1,\n",
    "    tf.keras.layers.GlobalAveragePooling2D(),\n",
    "    tf.keras.layers.Dense(512, activation='relu'),\n",
    "    tf.keras.layers.Dropout(0.3),\n",
    "    tf.keras.layers.Dense(5, activation='softmax')\n",
    "])\n"
   ]
  },
  {
   "cell_type": "code",
   "execution_count": null,
   "id": "22f26242",
   "metadata": {},
   "outputs": [
    {
     "name": "stdout",
     "output_type": "stream",
     "text": [
      "Epoch 1/10\n",
      "137/137 [==============================] - 1008s 7s/step - loss: 1.5169 - accuracy: 0.3207 - val_loss: 1.4083 - val_accuracy: 0.3680\n",
      "Epoch 2/10\n",
      "137/137 [==============================] - 803s 6s/step - loss: 1.4496 - accuracy: 0.3437 - val_loss: 1.3999 - val_accuracy: 0.3637\n",
      "Epoch 3/10\n",
      "137/137 [==============================] - 793s 6s/step - loss: 1.4286 - accuracy: 0.3517 - val_loss: 1.3939 - val_accuracy: 0.4099\n",
      "Epoch 4/10\n",
      "137/137 [==============================] - 837s 6s/step - loss: 1.4132 - accuracy: 0.3675 - val_loss: 1.3822 - val_accuracy: 0.3938\n",
      "Epoch 5/10\n",
      "137/137 [==============================] - 946s 7s/step - loss: 1.4016 - accuracy: 0.3820 - val_loss: 1.3768 - val_accuracy: 0.3916\n",
      "Epoch 6/10\n",
      "137/137 [==============================] - 951s 7s/step - loss: 1.3912 - accuracy: 0.3845 - val_loss: 1.3768 - val_accuracy: 0.4077\n",
      "Epoch 7/10\n",
      "137/137 [==============================] - 1003s 7s/step - loss: 1.3823 - accuracy: 0.3960 - val_loss: 1.3695 - val_accuracy: 0.4099\n",
      "Epoch 8/10\n",
      " 16/137 [==>...........................] - ETA: 10:40 - loss: 1.3818 - accuracy: 0.3926"
     ]
    }
   ],
   "source": [
    "model_1.compile(optimizer=Adam(learning_rate=0.0001), loss='categorical_crossentropy', metrics=['accuracy'])\n",
    "\n",
    "history = model_1.fit(\n",
    "    train_generator,\n",
    "    epochs=10,\n",
    "    validation_data=val_generator\n",
    ")\n"
   ]
  },
  {
   "cell_type": "code",
   "execution_count": 6,
   "id": "2f5c0606",
   "metadata": {},
   "outputs": [
    {
     "name": "stdout",
     "output_type": "stream",
     "text": [
      "25/30 [========================>.....] - ETA: 28s - loss: 1.4165 - accuracy: 0.3925"
     ]
    },
    {
     "ename": "",
     "evalue": "",
     "output_type": "error",
     "traceback": [
      "\u001b[1;31mLe noyau s’est bloqué lors de l’exécution du code dans une cellule active ou une cellule précédente. \n",
      "\u001b[1;31mVeuillez vérifier le code dans la ou les cellules pour identifier une cause possible de l’échec. \n",
      "\u001b[1;31mCliquez <a href='https://aka.ms/vscodeJupyterKernelCrash'>ici</a> pour plus d’informations. \n",
      "\u001b[1;31mPour plus d’informations, consultez Jupyter <a href='command:jupyter.viewOutput'>log</a>."
     ]
    }
   ],
   "source": [
    "test_loss, test_acc = model.evaluate(test_generator)\n",
    "print(f'Précision sur le jeu de test : {test_acc*100:.2f}%')"
   ]
  },
  {
   "cell_type": "code",
   "execution_count": null,
   "id": "35282dc2",
   "metadata": {},
   "outputs": [],
   "source": [
    "import numpy as np\n",
    "from sklearn.metrics import classification_report, confusion_matrix\n",
    "import seaborn as sns\n",
    "import matplotlib.pyplot as plt"
   ]
  },
  {
   "cell_type": "code",
   "execution_count": null,
   "id": "53c444b9",
   "metadata": {},
   "outputs": [],
   "source": [
    "# Prédictions\n",
    "y_pred = model.predict(test_generator)\n",
    "y_pred_classes = np.argmax(y_pred, axis=1)"
   ]
  },
  {
   "cell_type": "code",
   "execution_count": null,
   "id": "4f4388f2",
   "metadata": {},
   "outputs": [],
   "source": [
    "# Vraies étiquettes\n",
    "y_true = test_generator.classes\n",
    "class_labels = list(test_generator.class_indices.keys())"
   ]
  },
  {
   "cell_type": "code",
   "execution_count": null,
   "id": "d4240b4f",
   "metadata": {},
   "outputs": [],
   "source": [
    "report = classification_report(y_true, y_pred_classes, target_names=class_labels)\n",
    "print(report)"
   ]
  },
  {
   "cell_type": "code",
   "execution_count": null,
   "id": "5955cdbc",
   "metadata": {},
   "outputs": [],
   "source": [
    "cm = confusion_matrix(y_true, y_pred_classes)\n",
    "\n",
    "plt.figure(figsize=(8, 6))\n",
    "sns.heatmap(cm, annot=True, fmt='d', cmap='Blues', xticklabels=class_labels, yticklabels=class_labels)\n",
    "plt.xlabel('Prédit')\n",
    "plt.ylabel('Réel')\n",
    "plt.title('Matrice de confusion')\n",
    "plt.show()"
   ]
  },
  {
   "cell_type": "code",
   "execution_count": null,
   "id": "de134c43",
   "metadata": {},
   "outputs": [],
   "source": [
    "plt.plot(history.history['accuracy'], label='Train Accuracy')\n",
    "plt.plot(history.history['val_accuracy'], label='Val Accuracy')\n",
    "plt.xlabel('Epochs')\n",
    "plt.ylabel('Accuracy')\n",
    "plt.legend()\n",
    "plt.title('Courbe d’Accuracy')\n",
    "plt.show()"
   ]
  },
  {
   "cell_type": "code",
   "execution_count": null,
   "id": "6748832d",
   "metadata": {},
   "outputs": [],
   "source": [
    "model.save('skin_disease_classifier.h5')"
   ]
  }
 ],
 "metadata": {
  "kernelspec": {
   "display_name": "Python 3",
   "language": "python",
   "name": "python3"
  },
  "language_info": {
   "codemirror_mode": {
    "name": "ipython",
    "version": 3
   },
   "file_extension": ".py",
   "mimetype": "text/x-python",
   "name": "python",
   "nbconvert_exporter": "python",
   "pygments_lexer": "ipython3",
   "version": "3.9.20"
  }
 },
 "nbformat": 4,
 "nbformat_minor": 5
}
