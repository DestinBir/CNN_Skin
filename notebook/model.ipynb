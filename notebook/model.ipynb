{
 "cells": [
  {
   "cell_type": "code",
   "execution_count": null,
   "id": "d9e41e26",
   "metadata": {},
   "outputs": [
    {
     "ename": "",
     "evalue": "",
     "output_type": "error",
     "traceback": [
      "\u001b[1;31mÉchec du démarrage du Kernel. \n",
      "\u001b[1;31mImpossible de démarrer le noyau « tf (Python 3.9.20) » en raison d’un délai d’attente d’utilisation des ports. \n",
      "\u001b[1;31mPour plus d’informations, consultez Jupyter <a href='command:jupyter.viewOutput'>log</a>."
     ]
    }
   ],
   "source": [
    "import tensorflow as tf\n",
    "from tensorflow.keras.preprocessing.image import ImageDataGenerator\n",
    "from tensorflow.keras.applications import ResNet50\n",
    "from tensorflow.keras.models import Model\n",
    "from tensorflow.keras.layers import Dense, GlobalAveragePooling2D, Dropout\n",
    "from tensorflow.keras.optimizers import Adam"
   ]
  },
  {
   "cell_type": "code",
   "execution_count": 3,
   "id": "d11da8f0",
   "metadata": {},
   "outputs": [
    {
     "name": "stdout",
     "output_type": "stream",
     "text": [
      "Found 4359 images belonging to 5 classes.\n",
      "Found 932 images belonging to 5 classes.\n",
      "Found 939 images belonging to 5 classes.\n"
     ]
    }
   ],
   "source": [
    "IMG_SIZE = (224, 224)\n",
    "BATCH_SIZE = 32\n",
    "DATASET_DIR = \"../src/data/\"\n",
    "\n",
    "datagen = ImageDataGenerator(rescale=1./255)\n",
    "\n",
    "train_generator = datagen.flow_from_directory(\n",
    "    f\"{DATASET_DIR}/train\", target_size=IMG_SIZE, batch_size=BATCH_SIZE, class_mode=\"categorical\")\n",
    "\n",
    "val_generator = datagen.flow_from_directory(\n",
    "    f\"{DATASET_DIR}/val\", target_size=IMG_SIZE, batch_size=BATCH_SIZE, class_mode=\"categorical\")\n",
    "\n",
    "test_generator = datagen.flow_from_directory(\n",
    "    f\"{DATASET_DIR}/test\", target_size=IMG_SIZE, batch_size=BATCH_SIZE, class_mode=\"categorical\")\n"
   ]
  },
  {
   "cell_type": "code",
   "execution_count": 4,
   "id": "349fdeee",
   "metadata": {},
   "outputs": [
    {
     "name": "stdout",
     "output_type": "stream",
     "text": [
      "Downloading data from https://storage.googleapis.com/tensorflow/keras-applications/resnet/resnet50_weights_tf_dim_ordering_tf_kernels_notop.h5\n",
      "94765736/94765736 [==============================] - 97s 1us/step\n"
     ]
    }
   ],
   "source": [
    "base_model = ResNet50(weights='imagenet', include_top=False, input_shape=(224, 224, 3))\n",
    "base_model.trainable = False  # On gèle les couches de ResNet\n",
    "\n",
    "x = base_model.output\n",
    "x = GlobalAveragePooling2D()(x)\n",
    "x = Dropout(0.5)(x)\n",
    "predictions = Dense(5, activation='softmax')(x)  # 5 classes\n",
    "\n",
    "model = Model(inputs=base_model.input, outputs=predictions)\n"
   ]
  },
  {
   "cell_type": "code",
   "execution_count": null,
   "id": "22f26242",
   "metadata": {},
   "outputs": [
    {
     "name": "stdout",
     "output_type": "stream",
     "text": [
      "Epoch 1/10\n",
      "137/137 [==============================] - 908s 7s/step - loss: 1.6935 - accuracy: 0.2684 - val_loss: 1.4317 - val_accuracy: 0.3476\n",
      "Epoch 2/10\n",
      "137/137 [==============================] - 807s 6s/step - loss: 1.5649 - accuracy: 0.3051 - val_loss: 1.4208 - val_accuracy: 0.3466\n",
      "Epoch 3/10\n",
      "137/137 [==============================] - 798s 6s/step - loss: 1.5239 - accuracy: 0.3230 - val_loss: 1.4201 - val_accuracy: 0.3455\n",
      "Epoch 4/10\n",
      "137/137 [==============================] - 909s 7s/step - loss: 1.5042 - accuracy: 0.3063 - val_loss: 1.4167 - val_accuracy: 0.3487\n",
      "Epoch 5/10\n",
      "137/137 [==============================] - ETA: 0s - loss: 1.4785 - accuracy: 0.3386"
     ]
    }
   ],
   "source": [
    "model.compile(optimizer=Adam(learning_rate=0.0001), loss='categorical_crossentropy', metrics=['accuracy'])\n",
    "\n",
    "history = model.fit(\n",
    "    train_generator,\n",
    "    epochs=10,\n",
    "    validation_data=val_generator\n",
    ")\n"
   ]
  },
  {
   "cell_type": "code",
   "execution_count": null,
   "id": "2f5c0606",
   "metadata": {},
   "outputs": [],
   "source": [
    "test_loss, test_acc = model.evaluate(test_generator)\n",
    "print(f\"Accuracy sur test : {test_acc:.2f}\")"
   ]
  }
 ],
 "metadata": {
  "kernelspec": {
   "display_name": "Python 3",
   "language": "python",
   "name": "python3"
  },
  "language_info": {
   "codemirror_mode": {
    "name": "ipython",
    "version": 3
   },
   "file_extension": ".py",
   "mimetype": "text/x-python",
   "name": "python",
   "nbconvert_exporter": "python",
   "pygments_lexer": "ipython3",
   "version": "3.9.20"
  }
 },
 "nbformat": 4,
 "nbformat_minor": 5
}
