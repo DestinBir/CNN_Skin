{
 "cells": [
  {
   "cell_type": "code",
   "execution_count": 1,
   "id": "125df2cc",
   "metadata": {},
   "outputs": [],
   "source": [
    "import os\n",
    "from PIL import Image\n",
    "import imagehash\n",
    "import shutil\n",
    "import cv2"
   ]
  },
  {
   "cell_type": "code",
   "execution_count": 9,
   "id": "97720b71",
   "metadata": {},
   "outputs": [],
   "source": [
    "# Paramètres\n",
    "INPUT_DIR = \"../data/raw\"\n",
    "OUTPUT_DIR = '../data/processed'\n",
    "CATEGORIES = ['acne', 'vitiligo', 'hyperpigmentation', 'nail_psoriasis', 'sjs_ten']\n",
    "IMAGE_SIZE = (224, 224)\n",
    "BLUR_THRESHOLD = 100"
   ]
  },
  {
   "cell_type": "code",
   "execution_count": 7,
   "id": "f0df214e",
   "metadata": {},
   "outputs": [],
   "source": [
    "# Fonction pour détecter le flou\n",
    "def is_blurry(image_path, threshold=BLUR_THRESHOLD):\n",
    "    image = cv2.imread(image_path, 0)\n",
    "    return cv2.Laplacian(image, cv2.CV_64F).var() < threshold"
   ]
  },
  {
   "cell_type": "code",
   "execution_count": 14,
   "id": "c84e416a",
   "metadata": {},
   "outputs": [],
   "source": [
    "# Créer le dossier de sortie\n",
    "os.makedirs(OUTPUT_DIR, exist_ok=True)"
   ]
  },
  {
   "cell_type": "code",
   "execution_count": null,
   "id": "0b3b29cc",
   "metadata": {},
   "outputs": [],
   "source": [
    "processed_images = 0\n",
    "raw_images = 0"
   ]
  },
  {
   "cell_type": "code",
   "execution_count": null,
   "id": "0dfb3d44",
   "metadata": {},
   "outputs": [
    {
     "name": "stdout",
     "output_type": "stream",
     "text": [
      "Traitement de hue-200vitiligo-41__ProtectWyJQcm90ZWN0Il0_FocusFillWzI5NCwyMjIsIngiLDFd.jpg : 1268/2407 images traitéeseséeséesesseses\r"
     ]
    }
   ],
   "source": [
    "# Traitement par catégorie\n",
    "for category in CATEGORIES:\n",
    "    seen_hashes = set()\n",
    "    input_path = os.path.join(INPUT_DIR, category)\n",
    "    output_path = os.path.join(OUTPUT_DIR, category)\n",
    "    os.makedirs(output_path, exist_ok=True)\n",
    "\n",
    "    for filename in os.listdir(input_path):\n",
    "        filepath = os.path.join(input_path, filename)\n",
    "        raw_images += 1\n",
    "        try:\n",
    "            # Supprimer flou\n",
    "            if is_blurry(filepath):\n",
    "                continue\n",
    "\n",
    "            # Supprimer doublons\n",
    "            img = Image.open(filepath).convert('RGB')\n",
    "            hash_img = imagehash.average_hash(img)\n",
    "            if hash_img in seen_hashes:\n",
    "                continue\n",
    "            seen_hashes.add(hash_img)\n",
    "\n",
    "            # Redimensionnement\n",
    "            img = img.resize(IMAGE_SIZE)\n",
    "\n",
    "            # Sauvegarde\n",
    "            new_filename = os.path.join(output_path, filename)\n",
    "            img.save(new_filename)\n",
    "            processed_images += 1\n",
    "            \n",
    "            # Afficher le progrès\n",
    "            print(f\"Traitement de {filename} : {processed_images}/{raw_images} images traitées\", end='\\r')\n",
    "\n",
    "        except Exception as e:\n",
    "            print(f\"Erreur avec {filepath}: {e}\")\n"
   ]
  }
 ],
 "metadata": {
  "kernelspec": {
   "display_name": "Python (tensorflow)",
   "language": "python",
   "name": "tf"
  },
  "language_info": {
   "codemirror_mode": {
    "name": "ipython",
    "version": 3
   },
   "file_extension": ".py",
   "mimetype": "text/x-python",
   "name": "python",
   "nbconvert_exporter": "python",
   "pygments_lexer": "ipython3",
   "version": "3.9.20"
  }
 },
 "nbformat": 4,
 "nbformat_minor": 5
}
