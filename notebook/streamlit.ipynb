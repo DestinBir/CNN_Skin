{
 "cells": [
  {
   "cell_type": "code",
   "execution_count": 1,
   "id": "9566ab75",
   "metadata": {},
   "outputs": [
    {
     "name": "stdout",
     "output_type": "stream",
     "text": [
      "Requirement already satisfied: streamlit in c:\\users\\destin biringanine\\appdata\\roaming\\python\\python312\\site-packages (1.42.2)\n",
      "Requirement already satisfied: altair<6,>=4.0 in c:\\users\\destin biringanine\\appdata\\roaming\\python\\python312\\site-packages (from streamlit) (5.5.0)\n",
      "Requirement already satisfied: blinker<2,>=1.0.0 in c:\\users\\destin biringanine\\appdata\\roaming\\python\\python312\\site-packages (from streamlit) (1.9.0)\n",
      "Requirement already satisfied: cachetools<6,>=4.0 in c:\\users\\destin biringanine\\appdata\\roaming\\python\\python312\\site-packages (from streamlit) (5.5.2)\n",
      "Requirement already satisfied: click<9,>=7.0 in c:\\users\\destin biringanine\\appdata\\roaming\\python\\python312\\site-packages (from streamlit) (8.1.8)\n",
      "Requirement already satisfied: numpy<3,>=1.23 in c:\\users\\destin biringanine\\appdata\\roaming\\python\\python312\\site-packages (from streamlit) (2.2.3)\n",
      "Requirement already satisfied: packaging<25,>=20 in c:\\users\\destin biringanine\\appdata\\local\\programs\\python\\python312\\lib\\site-packages (from streamlit) (23.2)\n",
      "Requirement already satisfied: pandas<3,>=1.4.0 in c:\\users\\destin biringanine\\appdata\\roaming\\python\\python312\\site-packages (from streamlit) (2.2.3)\n",
      "Requirement already satisfied: pillow<12,>=7.1.0 in c:\\users\\destin biringanine\\appdata\\roaming\\python\\python312\\site-packages (from streamlit) (11.1.0)\n",
      "Requirement already satisfied: protobuf<6,>=3.20 in c:\\users\\destin biringanine\\appdata\\roaming\\python\\python312\\site-packages (from streamlit) (5.29.3)\n",
      "Requirement already satisfied: pyarrow>=7.0 in c:\\users\\destin biringanine\\appdata\\roaming\\python\\python312\\site-packages (from streamlit) (19.0.1)\n",
      "Requirement already satisfied: requests<3,>=2.27 in c:\\users\\destin biringanine\\appdata\\local\\programs\\python\\python312\\lib\\site-packages (from streamlit) (2.31.0)\n",
      "Requirement already satisfied: rich<14,>=10.14.0 in c:\\users\\destin biringanine\\appdata\\roaming\\python\\python312\\site-packages (from streamlit) (13.9.4)\n",
      "Requirement already satisfied: tenacity<10,>=8.1.0 in c:\\users\\destin biringanine\\appdata\\roaming\\python\\python312\\site-packages (from streamlit) (9.0.0)\n",
      "Requirement already satisfied: toml<2,>=0.10.1 in c:\\users\\destin biringanine\\appdata\\roaming\\python\\python312\\site-packages (from streamlit) (0.10.2)\n",
      "Requirement already satisfied: typing-extensions<5,>=4.4.0 in c:\\users\\destin biringanine\\appdata\\roaming\\python\\python312\\site-packages (from streamlit) (4.12.2)\n",
      "Requirement already satisfied: watchdog<7,>=2.1.5 in c:\\users\\destin biringanine\\appdata\\roaming\\python\\python312\\site-packages (from streamlit) (6.0.0)\n",
      "Requirement already satisfied: gitpython!=3.1.19,<4,>=3.0.7 in c:\\users\\destin biringanine\\appdata\\roaming\\python\\python312\\site-packages (from streamlit) (3.1.44)\n",
      "Requirement already satisfied: pydeck<1,>=0.8.0b4 in c:\\users\\destin biringanine\\appdata\\roaming\\python\\python312\\site-packages (from streamlit) (0.9.1)\n",
      "Requirement already satisfied: tornado<7,>=6.0.3 in c:\\users\\destin biringanine\\appdata\\roaming\\python\\python312\\site-packages (from streamlit) (6.4.2)\n",
      "Requirement already satisfied: jinja2 in c:\\users\\destin biringanine\\appdata\\roaming\\python\\python312\\site-packages (from altair<6,>=4.0->streamlit) (3.1.5)\n",
      "Requirement already satisfied: jsonschema>=3.0 in c:\\users\\destin biringanine\\appdata\\roaming\\python\\python312\\site-packages (from altair<6,>=4.0->streamlit) (4.23.0)\n",
      "Requirement already satisfied: narwhals>=1.14.2 in c:\\users\\destin biringanine\\appdata\\roaming\\python\\python312\\site-packages (from altair<6,>=4.0->streamlit) (1.27.1)\n",
      "Requirement already satisfied: colorama in c:\\users\\destin biringanine\\appdata\\local\\programs\\python\\python312\\lib\\site-packages (from click<9,>=7.0->streamlit) (0.4.6)\n",
      "Requirement already satisfied: gitdb<5,>=4.0.1 in c:\\users\\destin biringanine\\appdata\\roaming\\python\\python312\\site-packages (from gitpython!=3.1.19,<4,>=3.0.7->streamlit) (4.0.12)\n",
      "Requirement already satisfied: python-dateutil>=2.8.2 in c:\\users\\destin biringanine\\appdata\\roaming\\python\\python312\\site-packages (from pandas<3,>=1.4.0->streamlit) (2.9.0.post0)\n",
      "Requirement already satisfied: pytz>=2020.1 in c:\\users\\destin biringanine\\appdata\\roaming\\python\\python312\\site-packages (from pandas<3,>=1.4.0->streamlit) (2025.1)\n",
      "Requirement already satisfied: tzdata>=2022.7 in c:\\users\\destin biringanine\\appdata\\roaming\\python\\python312\\site-packages (from pandas<3,>=1.4.0->streamlit) (2025.1)\n",
      "Requirement already satisfied: charset-normalizer<4,>=2 in c:\\users\\destin biringanine\\appdata\\local\\programs\\python\\python312\\lib\\site-packages (from requests<3,>=2.27->streamlit) (3.2.0)\n",
      "Requirement already satisfied: idna<4,>=2.5 in c:\\users\\destin biringanine\\appdata\\local\\programs\\python\\python312\\lib\\site-packages (from requests<3,>=2.27->streamlit) (3.6)\n",
      "Requirement already satisfied: urllib3<3,>=1.21.1 in c:\\users\\destin biringanine\\appdata\\local\\programs\\python\\python312\\lib\\site-packages (from requests<3,>=2.27->streamlit) (2.1.0)\n",
      "Requirement already satisfied: certifi>=2017.4.17 in c:\\users\\destin biringanine\\appdata\\local\\programs\\python\\python312\\lib\\site-packages (from requests<3,>=2.27->streamlit) (2023.7.22)\n",
      "Requirement already satisfied: markdown-it-py>=2.2.0 in c:\\users\\destin biringanine\\appdata\\roaming\\python\\python312\\site-packages (from rich<14,>=10.14.0->streamlit) (3.0.0)\n",
      "Requirement already satisfied: pygments<3.0.0,>=2.13.0 in c:\\users\\destin biringanine\\appdata\\roaming\\python\\python312\\site-packages (from rich<14,>=10.14.0->streamlit) (2.18.0)\n",
      "Requirement already satisfied: smmap<6,>=3.0.1 in c:\\users\\destin biringanine\\appdata\\roaming\\python\\python312\\site-packages (from gitdb<5,>=4.0.1->gitpython!=3.1.19,<4,>=3.0.7->streamlit) (5.0.2)\n",
      "Requirement already satisfied: MarkupSafe>=2.0 in c:\\users\\destin biringanine\\appdata\\roaming\\python\\python312\\site-packages (from jinja2->altair<6,>=4.0->streamlit) (3.0.2)\n",
      "Requirement already satisfied: attrs>=22.2.0 in c:\\users\\destin biringanine\\appdata\\roaming\\python\\python312\\site-packages (from jsonschema>=3.0->altair<6,>=4.0->streamlit) (25.1.0)\n",
      "Requirement already satisfied: jsonschema-specifications>=2023.03.6 in c:\\users\\destin biringanine\\appdata\\roaming\\python\\python312\\site-packages (from jsonschema>=3.0->altair<6,>=4.0->streamlit) (2024.10.1)\n",
      "Requirement already satisfied: referencing>=0.28.4 in c:\\users\\destin biringanine\\appdata\\roaming\\python\\python312\\site-packages (from jsonschema>=3.0->altair<6,>=4.0->streamlit) (0.36.2)\n",
      "Requirement already satisfied: rpds-py>=0.7.1 in c:\\users\\destin biringanine\\appdata\\roaming\\python\\python312\\site-packages (from jsonschema>=3.0->altair<6,>=4.0->streamlit) (0.23.1)\n",
      "Requirement already satisfied: mdurl~=0.1 in c:\\users\\destin biringanine\\appdata\\roaming\\python\\python312\\site-packages (from markdown-it-py>=2.2.0->rich<14,>=10.14.0->streamlit) (0.1.2)\n",
      "Requirement already satisfied: six>=1.5 in c:\\users\\destin biringanine\\appdata\\roaming\\python\\python312\\site-packages (from python-dateutil>=2.8.2->pandas<3,>=1.4.0->streamlit) (1.16.0)\n"
     ]
    },
    {
     "name": "stderr",
     "output_type": "stream",
     "text": [
      "\n",
      "[notice] A new release of pip is available: 25.0 -> 25.0.1\n",
      "[notice] To update, run: C:\\Users\\Destin Biringanine\\AppData\\Local\\Programs\\Python\\Python312\\python.exe -m pip install --upgrade pip\n"
     ]
    }
   ],
   "source": [
    "!pip install streamlit"
   ]
  },
  {
   "cell_type": "code",
   "execution_count": 2,
   "id": "430ff256",
   "metadata": {},
   "outputs": [
    {
     "ename": "ModuleNotFoundError",
     "evalue": "No module named 'streamlit'",
     "output_type": "error",
     "traceback": [
      "\u001b[1;31m---------------------------------------------------------------------------\u001b[0m",
      "\u001b[1;31mModuleNotFoundError\u001b[0m                       Traceback (most recent call last)",
      "Cell \u001b[1;32mIn[2], line 1\u001b[0m\n\u001b[1;32m----> 1\u001b[0m \u001b[38;5;28;01mimport\u001b[39;00m \u001b[38;5;21;01mstreamlit\u001b[39;00m \u001b[38;5;28;01mas\u001b[39;00m \u001b[38;5;21;01mst\u001b[39;00m\n\u001b[0;32m      2\u001b[0m \u001b[38;5;28;01mfrom\u001b[39;00m \u001b[38;5;21;01mPIL\u001b[39;00m \u001b[38;5;28;01mimport\u001b[39;00m Image\n\u001b[0;32m      3\u001b[0m \u001b[38;5;28;01mimport\u001b[39;00m \u001b[38;5;21;01mnumpy\u001b[39;00m \u001b[38;5;28;01mas\u001b[39;00m \u001b[38;5;21;01mnp\u001b[39;00m\n",
      "\u001b[1;31mModuleNotFoundError\u001b[0m: No module named 'streamlit'"
     ]
    }
   ],
   "source": [
    "import streamlit as st\n",
    "from PIL import Image\n",
    "import numpy as np\n",
    "from tensorflow.keras.models import load_model\n",
    "from tensorflow.keras.preprocessing.image import img_to_array\n",
    "\n",
    "# Chargement du modèle\n",
    "# model = load_model('mon_model_cnn_skin.h5')  # Assure-toi que ce chemin est correct\n",
    "\n",
    "# Dictionnaire des classes\n",
    "class_names = ['Acné', 'Vitiligo', 'Hyperpigmentation', 'Nail Psoriasis', 'SJS-TEN']\n",
    "\n",
    "# Interface Streamlit\n",
    "st.set_page_config(page_title=\"CNN Médical en Temps Réel\", layout=\"centered\")\n",
    "st.title(\"🧠 Classification d’Images Médicales avec CNN\")\n",
    "st.markdown(\"---\")\n",
    "\n",
    "st.sidebar.image(\"https://upload.wikimedia.org/wikipedia/commons/6/6e/Health_Medical_icon.png\", width=100)\n",
    "st.sidebar.title(\"Navigation\")\n",
    "section = st.sidebar.radio(\"Aller à\", [\"🏁 Présentation\", \"📊 Dataset\", \"🔍 Tester une Image\"])\n",
    "\n",
    "# Section présentation\n",
    "if section == \"🏁 Présentation\":\n",
    "    st.header(\"Pourquoi ce projet ?\")\n",
    "    st.write(\"\"\"\n",
    "    Les maladies de la peau représentent une **préoccupation majeure en Afrique**, souvent négligée.\n",
    "    Ce projet démontre comment les **réseaux de neurones convolutifs (CNN)** peuvent aider à **classifier des images dermatologiques** en temps réel.\n",
    "\n",
    "    > _“L’IA ne remplacera pas les médecins, mais les médecins qui l’utilisent remplaceront ceux qui ne le font pas.”_\n",
    "    \"\"\")\n",
    "    st.markdown(\"#### Avantages :\")\n",
    "    st.markdown(\"- 📸 Traitement d’images en temps réel\")\n",
    "    st.markdown(\"- 🧬 Détection de maladies rares\")\n",
    "    st.markdown(\"- ⚙️ Utilisation de Transfer Learning (ResNet)\")\n",
    "\n",
    "# Section dataset\n",
    "elif section == \"📊 Dataset\":\n",
    "    st.header(\"À propos du Dataset\")\n",
    "    st.write(\"\"\"\n",
    "    Le dataset est composé de **9548 images dermatoscopiques** réparties en 5 classes :\n",
    "    \"\"\")\n",
    "    data = {\n",
    "        \"Acné\": 1148,\n",
    "        \"Vitiligo\": 2016,\n",
    "        \"Hyperpigmentation\": 700,\n",
    "        \"Nail Psoriasis\": 2520,\n",
    "        \"SJS-TEN\": 3164\n",
    "    }\n",
    "    st.bar_chart(data)\n",
    "\n",
    "    st.info(\"Les données proviennent de différents hôpitaux et ressources en ligne, permettant une diversité d’origines géographiques.\")\n",
    "\n",
    "# Section prédiction\n",
    "elif section == \"🔍 Tester une Image\":\n",
    "    st.header(\"Tester une Image de Peau\")\n",
    "    uploaded_file = st.file_uploader(\"Upload une image\", type=[\"jpg\", \"png\", \"jpeg\"])\n",
    "\n",
    "    if uploaded_file is not None:\n",
    "        image = Image.open(uploaded_file).resize((224, 224))\n",
    "        st.image(image, caption=\"Image uploadée\", use_column_width=True)\n",
    "\n",
    "        # Prétraitement\n",
    "        image_array = img_to_array(image) / 255.0\n",
    "        image_array = np.expand_dims(image_array, axis=0)\n",
    "\n",
    "        # Prédiction\n",
    "        prediction = model.predict(image_array)\n",
    "        predicted_class = class_names[np.argmax(prediction)]\n",
    "\n",
    "        st.success(f\"### ✅ Diagnostic possible : **{predicted_class}**\")\n",
    "        st.markdown(\"> Cette prédiction est à usage **éducatif** uniquement.\")\n",
    "\n"
   ]
  }
 ],
 "metadata": {
  "kernelspec": {
   "display_name": "Python 3",
   "language": "python",
   "name": "python3"
  },
  "language_info": {
   "codemirror_mode": {
    "name": "ipython",
    "version": 3
   },
   "file_extension": ".py",
   "mimetype": "text/x-python",
   "name": "python",
   "nbconvert_exporter": "python",
   "pygments_lexer": "ipython3",
   "version": "3.9.20"
  }
 },
 "nbformat": 4,
 "nbformat_minor": 5
}
